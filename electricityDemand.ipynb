{
  "nbformat": 4,
  "nbformat_minor": 0,
  "metadata": {
    "colab": {
      "provenance": []
    },
    "kernelspec": {
      "name": "python3",
      "display_name": "Python 3"
    },
    "language_info": {
      "name": "python"
    }
  },
  "cells": [
    {
      "cell_type": "code",
      "execution_count": 3,
      "metadata": {
        "colab": {
          "base_uri": "https://localhost:8080/"
        },
        "id": "NLmqZPQdMuCA",
        "outputId": "9186a901-f484-47fb-a52f-e8adbd75ec6e"
      },
      "outputs": [
        {
          "output_type": "stream",
          "name": "stdout",
          "text": [
            "Mounted at /content/drive\n"
          ]
        }
      ],
      "source": [
        "from google.colab import drive\n",
        "drive.mount('/content/drive')"
      ]
    },
    {
      "cell_type": "markdown",
      "source": [
        "### **PROJECT GOAL**\n",
        "You want to model electricity demand (MW) over time, influenced by:\n",
        "\n",
        "Temperature\n",
        "\n",
        "Time features (hour, day of week)\n",
        "\n",
        "Region\n",
        "\n",
        "Holidays"
      ],
      "metadata": {
        "id": "n6hxM49LUucx"
      }
    },
    {
      "cell_type": "code",
      "source": [
        "import pandas as pd"
      ],
      "metadata": {
        "id": "UAtd4P1XNWOS"
      },
      "execution_count": 4,
      "outputs": []
    },
    {
      "cell_type": "code",
      "source": [
        "df= pd.read_excel('/content/drive/MyDrive/electricity_demand_dataset.xlsx')"
      ],
      "metadata": {
        "id": "NZZLwSpzOfKq"
      },
      "execution_count": 5,
      "outputs": []
    },
    {
      "cell_type": "code",
      "source": [
        "df.head(100)"
      ],
      "metadata": {
        "colab": {
          "base_uri": "https://localhost:8080/",
          "height": 424
        },
        "id": "HvZbkSuWOlIV",
        "outputId": "6e79135e-bacf-4b01-b9d7-76c6c4e331cc"
      },
      "execution_count": 6,
      "outputs": [
        {
          "output_type": "execute_result",
          "data": {
            "text/plain": [
              "              DateTime   Region  Temperature_C DayOfWeek  Hour  IsHoliday  \\\n",
              "0  2024-01-01 00:00:00     West      25.291179    Monday     0          1   \n",
              "1  2024-01-01 01:00:00  Central      16.465404    Monday     1          1   \n",
              "2  2024-01-01 02:00:00     East      31.127033    Monday     2          1   \n",
              "3  2024-01-01 03:00:00  Central      30.089680    Monday     3          1   \n",
              "4  2024-01-01 04:00:00  Central      17.601964    Monday     4          1   \n",
              "..                 ...      ...            ...       ...   ...        ...   \n",
              "95 2024-01-04 23:00:00     East      27.845573  Thursday    23          0   \n",
              "96 2024-01-05 00:00:00  Central      18.931297    Friday     0          0   \n",
              "97 2024-01-05 01:00:00    South      17.437600    Friday     1          0   \n",
              "98 2024-01-05 02:00:00    South      23.263420    Friday     2          0   \n",
              "99 2024-01-05 03:00:00    North      25.074997    Friday     3          0   \n",
              "\n",
              "     Demand_MW  \n",
              "0   237.930201  \n",
              "1   273.609093  \n",
              "2   208.015929  \n",
              "3   207.810772  \n",
              "4   273.786146  \n",
              "..         ...  \n",
              "95  287.970486  \n",
              "96  319.168888  \n",
              "97  312.544617  \n",
              "98  290.552033  \n",
              "99  278.323546  \n",
              "\n",
              "[100 rows x 7 columns]"
            ],
            "text/html": [
              "\n",
              "  <div id=\"df-d5cf33f0-2c0e-48aa-8a7f-c49819a09f4f\" class=\"colab-df-container\">\n",
              "    <div>\n",
              "<style scoped>\n",
              "    .dataframe tbody tr th:only-of-type {\n",
              "        vertical-align: middle;\n",
              "    }\n",
              "\n",
              "    .dataframe tbody tr th {\n",
              "        vertical-align: top;\n",
              "    }\n",
              "\n",
              "    .dataframe thead th {\n",
              "        text-align: right;\n",
              "    }\n",
              "</style>\n",
              "<table border=\"1\" class=\"dataframe\">\n",
              "  <thead>\n",
              "    <tr style=\"text-align: right;\">\n",
              "      <th></th>\n",
              "      <th>DateTime</th>\n",
              "      <th>Region</th>\n",
              "      <th>Temperature_C</th>\n",
              "      <th>DayOfWeek</th>\n",
              "      <th>Hour</th>\n",
              "      <th>IsHoliday</th>\n",
              "      <th>Demand_MW</th>\n",
              "    </tr>\n",
              "  </thead>\n",
              "  <tbody>\n",
              "    <tr>\n",
              "      <th>0</th>\n",
              "      <td>2024-01-01 00:00:00</td>\n",
              "      <td>West</td>\n",
              "      <td>25.291179</td>\n",
              "      <td>Monday</td>\n",
              "      <td>0</td>\n",
              "      <td>1</td>\n",
              "      <td>237.930201</td>\n",
              "    </tr>\n",
              "    <tr>\n",
              "      <th>1</th>\n",
              "      <td>2024-01-01 01:00:00</td>\n",
              "      <td>Central</td>\n",
              "      <td>16.465404</td>\n",
              "      <td>Monday</td>\n",
              "      <td>1</td>\n",
              "      <td>1</td>\n",
              "      <td>273.609093</td>\n",
              "    </tr>\n",
              "    <tr>\n",
              "      <th>2</th>\n",
              "      <td>2024-01-01 02:00:00</td>\n",
              "      <td>East</td>\n",
              "      <td>31.127033</td>\n",
              "      <td>Monday</td>\n",
              "      <td>2</td>\n",
              "      <td>1</td>\n",
              "      <td>208.015929</td>\n",
              "    </tr>\n",
              "    <tr>\n",
              "      <th>3</th>\n",
              "      <td>2024-01-01 03:00:00</td>\n",
              "      <td>Central</td>\n",
              "      <td>30.089680</td>\n",
              "      <td>Monday</td>\n",
              "      <td>3</td>\n",
              "      <td>1</td>\n",
              "      <td>207.810772</td>\n",
              "    </tr>\n",
              "    <tr>\n",
              "      <th>4</th>\n",
              "      <td>2024-01-01 04:00:00</td>\n",
              "      <td>Central</td>\n",
              "      <td>17.601964</td>\n",
              "      <td>Monday</td>\n",
              "      <td>4</td>\n",
              "      <td>1</td>\n",
              "      <td>273.786146</td>\n",
              "    </tr>\n",
              "    <tr>\n",
              "      <th>...</th>\n",
              "      <td>...</td>\n",
              "      <td>...</td>\n",
              "      <td>...</td>\n",
              "      <td>...</td>\n",
              "      <td>...</td>\n",
              "      <td>...</td>\n",
              "      <td>...</td>\n",
              "    </tr>\n",
              "    <tr>\n",
              "      <th>95</th>\n",
              "      <td>2024-01-04 23:00:00</td>\n",
              "      <td>East</td>\n",
              "      <td>27.845573</td>\n",
              "      <td>Thursday</td>\n",
              "      <td>23</td>\n",
              "      <td>0</td>\n",
              "      <td>287.970486</td>\n",
              "    </tr>\n",
              "    <tr>\n",
              "      <th>96</th>\n",
              "      <td>2024-01-05 00:00:00</td>\n",
              "      <td>Central</td>\n",
              "      <td>18.931297</td>\n",
              "      <td>Friday</td>\n",
              "      <td>0</td>\n",
              "      <td>0</td>\n",
              "      <td>319.168888</td>\n",
              "    </tr>\n",
              "    <tr>\n",
              "      <th>97</th>\n",
              "      <td>2024-01-05 01:00:00</td>\n",
              "      <td>South</td>\n",
              "      <td>17.437600</td>\n",
              "      <td>Friday</td>\n",
              "      <td>1</td>\n",
              "      <td>0</td>\n",
              "      <td>312.544617</td>\n",
              "    </tr>\n",
              "    <tr>\n",
              "      <th>98</th>\n",
              "      <td>2024-01-05 02:00:00</td>\n",
              "      <td>South</td>\n",
              "      <td>23.263420</td>\n",
              "      <td>Friday</td>\n",
              "      <td>2</td>\n",
              "      <td>0</td>\n",
              "      <td>290.552033</td>\n",
              "    </tr>\n",
              "    <tr>\n",
              "      <th>99</th>\n",
              "      <td>2024-01-05 03:00:00</td>\n",
              "      <td>North</td>\n",
              "      <td>25.074997</td>\n",
              "      <td>Friday</td>\n",
              "      <td>3</td>\n",
              "      <td>0</td>\n",
              "      <td>278.323546</td>\n",
              "    </tr>\n",
              "  </tbody>\n",
              "</table>\n",
              "<p>100 rows × 7 columns</p>\n",
              "</div>\n",
              "    <div class=\"colab-df-buttons\">\n",
              "\n",
              "  <div class=\"colab-df-container\">\n",
              "    <button class=\"colab-df-convert\" onclick=\"convertToInteractive('df-d5cf33f0-2c0e-48aa-8a7f-c49819a09f4f')\"\n",
              "            title=\"Convert this dataframe to an interactive table.\"\n",
              "            style=\"display:none;\">\n",
              "\n",
              "  <svg xmlns=\"http://www.w3.org/2000/svg\" height=\"24px\" viewBox=\"0 -960 960 960\">\n",
              "    <path d=\"M120-120v-720h720v720H120Zm60-500h600v-160H180v160Zm220 220h160v-160H400v160Zm0 220h160v-160H400v160ZM180-400h160v-160H180v160Zm440 0h160v-160H620v160ZM180-180h160v-160H180v160Zm440 0h160v-160H620v160Z\"/>\n",
              "  </svg>\n",
              "    </button>\n",
              "\n",
              "  <style>\n",
              "    .colab-df-container {\n",
              "      display:flex;\n",
              "      gap: 12px;\n",
              "    }\n",
              "\n",
              "    .colab-df-convert {\n",
              "      background-color: #E8F0FE;\n",
              "      border: none;\n",
              "      border-radius: 50%;\n",
              "      cursor: pointer;\n",
              "      display: none;\n",
              "      fill: #1967D2;\n",
              "      height: 32px;\n",
              "      padding: 0 0 0 0;\n",
              "      width: 32px;\n",
              "    }\n",
              "\n",
              "    .colab-df-convert:hover {\n",
              "      background-color: #E2EBFA;\n",
              "      box-shadow: 0px 1px 2px rgba(60, 64, 67, 0.3), 0px 1px 3px 1px rgba(60, 64, 67, 0.15);\n",
              "      fill: #174EA6;\n",
              "    }\n",
              "\n",
              "    .colab-df-buttons div {\n",
              "      margin-bottom: 4px;\n",
              "    }\n",
              "\n",
              "    [theme=dark] .colab-df-convert {\n",
              "      background-color: #3B4455;\n",
              "      fill: #D2E3FC;\n",
              "    }\n",
              "\n",
              "    [theme=dark] .colab-df-convert:hover {\n",
              "      background-color: #434B5C;\n",
              "      box-shadow: 0px 1px 3px 1px rgba(0, 0, 0, 0.15);\n",
              "      filter: drop-shadow(0px 1px 2px rgba(0, 0, 0, 0.3));\n",
              "      fill: #FFFFFF;\n",
              "    }\n",
              "  </style>\n",
              "\n",
              "    <script>\n",
              "      const buttonEl =\n",
              "        document.querySelector('#df-d5cf33f0-2c0e-48aa-8a7f-c49819a09f4f button.colab-df-convert');\n",
              "      buttonEl.style.display =\n",
              "        google.colab.kernel.accessAllowed ? 'block' : 'none';\n",
              "\n",
              "      async function convertToInteractive(key) {\n",
              "        const element = document.querySelector('#df-d5cf33f0-2c0e-48aa-8a7f-c49819a09f4f');\n",
              "        const dataTable =\n",
              "          await google.colab.kernel.invokeFunction('convertToInteractive',\n",
              "                                                    [key], {});\n",
              "        if (!dataTable) return;\n",
              "\n",
              "        const docLinkHtml = 'Like what you see? Visit the ' +\n",
              "          '<a target=\"_blank\" href=https://colab.research.google.com/notebooks/data_table.ipynb>data table notebook</a>'\n",
              "          + ' to learn more about interactive tables.';\n",
              "        element.innerHTML = '';\n",
              "        dataTable['output_type'] = 'display_data';\n",
              "        await google.colab.output.renderOutput(dataTable, element);\n",
              "        const docLink = document.createElement('div');\n",
              "        docLink.innerHTML = docLinkHtml;\n",
              "        element.appendChild(docLink);\n",
              "      }\n",
              "    </script>\n",
              "  </div>\n",
              "\n",
              "\n",
              "<div id=\"df-1dcd4647-b1e5-4767-b154-3faace64fcaa\">\n",
              "  <button class=\"colab-df-quickchart\" onclick=\"quickchart('df-1dcd4647-b1e5-4767-b154-3faace64fcaa')\"\n",
              "            title=\"Suggest charts\"\n",
              "            style=\"display:none;\">\n",
              "\n",
              "<svg xmlns=\"http://www.w3.org/2000/svg\" height=\"24px\"viewBox=\"0 0 24 24\"\n",
              "     width=\"24px\">\n",
              "    <g>\n",
              "        <path d=\"M19 3H5c-1.1 0-2 .9-2 2v14c0 1.1.9 2 2 2h14c1.1 0 2-.9 2-2V5c0-1.1-.9-2-2-2zM9 17H7v-7h2v7zm4 0h-2V7h2v10zm4 0h-2v-4h2v4z\"/>\n",
              "    </g>\n",
              "</svg>\n",
              "  </button>\n",
              "\n",
              "<style>\n",
              "  .colab-df-quickchart {\n",
              "      --bg-color: #E8F0FE;\n",
              "      --fill-color: #1967D2;\n",
              "      --hover-bg-color: #E2EBFA;\n",
              "      --hover-fill-color: #174EA6;\n",
              "      --disabled-fill-color: #AAA;\n",
              "      --disabled-bg-color: #DDD;\n",
              "  }\n",
              "\n",
              "  [theme=dark] .colab-df-quickchart {\n",
              "      --bg-color: #3B4455;\n",
              "      --fill-color: #D2E3FC;\n",
              "      --hover-bg-color: #434B5C;\n",
              "      --hover-fill-color: #FFFFFF;\n",
              "      --disabled-bg-color: #3B4455;\n",
              "      --disabled-fill-color: #666;\n",
              "  }\n",
              "\n",
              "  .colab-df-quickchart {\n",
              "    background-color: var(--bg-color);\n",
              "    border: none;\n",
              "    border-radius: 50%;\n",
              "    cursor: pointer;\n",
              "    display: none;\n",
              "    fill: var(--fill-color);\n",
              "    height: 32px;\n",
              "    padding: 0;\n",
              "    width: 32px;\n",
              "  }\n",
              "\n",
              "  .colab-df-quickchart:hover {\n",
              "    background-color: var(--hover-bg-color);\n",
              "    box-shadow: 0 1px 2px rgba(60, 64, 67, 0.3), 0 1px 3px 1px rgba(60, 64, 67, 0.15);\n",
              "    fill: var(--button-hover-fill-color);\n",
              "  }\n",
              "\n",
              "  .colab-df-quickchart-complete:disabled,\n",
              "  .colab-df-quickchart-complete:disabled:hover {\n",
              "    background-color: var(--disabled-bg-color);\n",
              "    fill: var(--disabled-fill-color);\n",
              "    box-shadow: none;\n",
              "  }\n",
              "\n",
              "  .colab-df-spinner {\n",
              "    border: 2px solid var(--fill-color);\n",
              "    border-color: transparent;\n",
              "    border-bottom-color: var(--fill-color);\n",
              "    animation:\n",
              "      spin 1s steps(1) infinite;\n",
              "  }\n",
              "\n",
              "  @keyframes spin {\n",
              "    0% {\n",
              "      border-color: transparent;\n",
              "      border-bottom-color: var(--fill-color);\n",
              "      border-left-color: var(--fill-color);\n",
              "    }\n",
              "    20% {\n",
              "      border-color: transparent;\n",
              "      border-left-color: var(--fill-color);\n",
              "      border-top-color: var(--fill-color);\n",
              "    }\n",
              "    30% {\n",
              "      border-color: transparent;\n",
              "      border-left-color: var(--fill-color);\n",
              "      border-top-color: var(--fill-color);\n",
              "      border-right-color: var(--fill-color);\n",
              "    }\n",
              "    40% {\n",
              "      border-color: transparent;\n",
              "      border-right-color: var(--fill-color);\n",
              "      border-top-color: var(--fill-color);\n",
              "    }\n",
              "    60% {\n",
              "      border-color: transparent;\n",
              "      border-right-color: var(--fill-color);\n",
              "    }\n",
              "    80% {\n",
              "      border-color: transparent;\n",
              "      border-right-color: var(--fill-color);\n",
              "      border-bottom-color: var(--fill-color);\n",
              "    }\n",
              "    90% {\n",
              "      border-color: transparent;\n",
              "      border-bottom-color: var(--fill-color);\n",
              "    }\n",
              "  }\n",
              "</style>\n",
              "\n",
              "  <script>\n",
              "    async function quickchart(key) {\n",
              "      const quickchartButtonEl =\n",
              "        document.querySelector('#' + key + ' button');\n",
              "      quickchartButtonEl.disabled = true;  // To prevent multiple clicks.\n",
              "      quickchartButtonEl.classList.add('colab-df-spinner');\n",
              "      try {\n",
              "        const charts = await google.colab.kernel.invokeFunction(\n",
              "            'suggestCharts', [key], {});\n",
              "      } catch (error) {\n",
              "        console.error('Error during call to suggestCharts:', error);\n",
              "      }\n",
              "      quickchartButtonEl.classList.remove('colab-df-spinner');\n",
              "      quickchartButtonEl.classList.add('colab-df-quickchart-complete');\n",
              "    }\n",
              "    (() => {\n",
              "      let quickchartButtonEl =\n",
              "        document.querySelector('#df-1dcd4647-b1e5-4767-b154-3faace64fcaa button');\n",
              "      quickchartButtonEl.style.display =\n",
              "        google.colab.kernel.accessAllowed ? 'block' : 'none';\n",
              "    })();\n",
              "  </script>\n",
              "</div>\n",
              "\n",
              "    </div>\n",
              "  </div>\n"
            ],
            "application/vnd.google.colaboratory.intrinsic+json": {
              "type": "dataframe",
              "variable_name": "df",
              "summary": "{\n  \"name\": \"df\",\n  \"rows\": 2184,\n  \"fields\": [\n    {\n      \"column\": \"DateTime\",\n      \"properties\": {\n        \"dtype\": \"date\",\n        \"min\": \"2024-01-01 00:00:00\",\n        \"max\": \"2024-03-31 23:00:00\",\n        \"num_unique_values\": 2184,\n        \"samples\": [\n          \"2024-01-12 18:00:00\",\n          \"2024-01-16 07:00:00\",\n          \"2024-01-22 10:00:00\"\n        ],\n        \"semantic_type\": \"\",\n        \"description\": \"\"\n      }\n    },\n    {\n      \"column\": \"Region\",\n      \"properties\": {\n        \"dtype\": \"category\",\n        \"num_unique_values\": 5,\n        \"samples\": [\n          \"Central\",\n          \"North\",\n          \"East\"\n        ],\n        \"semantic_type\": \"\",\n        \"description\": \"\"\n      }\n    },\n    {\n      \"column\": \"Temperature_C\",\n      \"properties\": {\n        \"dtype\": \"number\",\n        \"std\": 6.093012746604776,\n        \"min\": 2.563373650359587,\n        \"max\": 41.56294648414854,\n        \"num_unique_values\": 2119,\n        \"samples\": [\n          22.79864141478378,\n          30.40939442509196,\n          23.78736949887214\n        ],\n        \"semantic_type\": \"\",\n        \"description\": \"\"\n      }\n    },\n    {\n      \"column\": \"DayOfWeek\",\n      \"properties\": {\n        \"dtype\": \"category\",\n        \"num_unique_values\": 7,\n        \"samples\": [\n          \"Monday\",\n          \"Tuesday\",\n          \"Saturday\"\n        ],\n        \"semantic_type\": \"\",\n        \"description\": \"\"\n      }\n    },\n    {\n      \"column\": \"Hour\",\n      \"properties\": {\n        \"dtype\": \"number\",\n        \"std\": 6,\n        \"min\": 0,\n        \"max\": 23,\n        \"num_unique_values\": 24,\n        \"samples\": [\n          8,\n          16,\n          0\n        ],\n        \"semantic_type\": \"\",\n        \"description\": \"\"\n      }\n    },\n    {\n      \"column\": \"IsHoliday\",\n      \"properties\": {\n        \"dtype\": \"number\",\n        \"std\": 0,\n        \"min\": 0,\n        \"max\": 1,\n        \"num_unique_values\": 2,\n        \"samples\": [\n          0,\n          1\n        ],\n        \"semantic_type\": \"\",\n        \"description\": \"\"\n      }\n    },\n    {\n      \"column\": \"Demand_MW\",\n      \"properties\": {\n        \"dtype\": \"number\",\n        \"std\": 49.9229337674882,\n        \"min\": 188.1807922993787,\n        \"max\": 519.7627520365661,\n        \"num_unique_values\": 2119,\n        \"samples\": [\n          284.2703468548762,\n          311.6383573775283\n        ],\n        \"semantic_type\": \"\",\n        \"description\": \"\"\n      }\n    }\n  ]\n}"
            }
          },
          "metadata": {},
          "execution_count": 6
        }
      ]
    },
    {
      "cell_type": "code",
      "source": [
        "df.info() # inspecting the structure of the data"
      ],
      "metadata": {
        "colab": {
          "base_uri": "https://localhost:8080/"
        },
        "id": "1TCiE8SoPDuz",
        "outputId": "8570a8a9-68aa-49cc-da5c-c77c46cbd22f"
      },
      "execution_count": 7,
      "outputs": [
        {
          "output_type": "stream",
          "name": "stdout",
          "text": [
            "<class 'pandas.core.frame.DataFrame'>\n",
            "RangeIndex: 2184 entries, 0 to 2183\n",
            "Data columns (total 7 columns):\n",
            " #   Column         Non-Null Count  Dtype         \n",
            "---  ------         --------------  -----         \n",
            " 0   DateTime       2184 non-null   datetime64[ns]\n",
            " 1   Region         2184 non-null   object        \n",
            " 2   Temperature_C  2119 non-null   float64       \n",
            " 3   DayOfWeek      2184 non-null   object        \n",
            " 4   Hour           2184 non-null   int64         \n",
            " 5   IsHoliday      2184 non-null   int64         \n",
            " 6   Demand_MW      2119 non-null   float64       \n",
            "dtypes: datetime64[ns](1), float64(2), int64(2), object(2)\n",
            "memory usage: 119.6+ KB\n"
          ]
        }
      ]
    },
    {
      "cell_type": "markdown",
      "source": [
        "# **Interpreting the above:**\n",
        "\n",
        "1. dateTime64: Since this is time series data it tells me that I do not need to do anything with it since it's in the right format.\n",
        "\n",
        "2. Region& dayOfWeek: These columns are categorical. Meaning that later I will need to encode them if needed- one_hot_encoding or label_encoding.\n",
        "\n",
        "3. Temperature_C has 65 null (2184- 2119), now I know that I need to fill these nulls with something meangful.\n",
        "\n",
        "4. Demand_MW also has 65 nulls. This tells me I can use Interpolation to preserve time order.\n",
        "\n",
        "5. Hour & IsHoliday are numeric: ideal for correlation or modeling. I can possibly convert IsHoliday to T/F/"
      ],
      "metadata": {
        "id": "QfyWylYmVp3X"
      }
    },
    {
      "cell_type": "code",
      "source": [
        "print(df.describe())"
      ],
      "metadata": {
        "colab": {
          "base_uri": "https://localhost:8080/"
        },
        "id": "3xRXNXvMU80B",
        "outputId": "3bfe527d-ff7c-45ed-b719-b3a1f2f4bfa6"
      },
      "execution_count": 8,
      "outputs": [
        {
          "output_type": "stream",
          "name": "stdout",
          "text": [
            "                  DateTime  Temperature_C         Hour    IsHoliday  \\\n",
            "count                 2184    2119.000000  2184.000000  2184.000000   \n",
            "mean   2024-02-15 11:30:00      22.142485    11.500000     0.032967   \n",
            "min    2024-01-01 00:00:00       2.563374     0.000000     0.000000   \n",
            "25%    2024-01-23 17:45:00      18.015811     5.750000     0.000000   \n",
            "50%    2024-02-15 11:30:00      22.190689    11.500000     0.000000   \n",
            "75%    2024-03-09 05:15:00      26.285275    17.250000     0.000000   \n",
            "max    2024-03-31 23:00:00      41.562946    23.000000     1.000000   \n",
            "std                    NaN       6.093013     6.923772     0.178591   \n",
            "\n",
            "         Demand_MW  \n",
            "count  2119.000000  \n",
            "mean    327.107837  \n",
            "min     188.180792  \n",
            "25%     294.311429  \n",
            "50%     322.684879  \n",
            "75%     357.563164  \n",
            "max     519.762752  \n",
            "std      49.922934  \n"
          ]
        }
      ]
    },
    {
      "cell_type": "markdown",
      "source": [
        "# **Interpreting the above:**\n",
        "\n",
        "1. For DateTime\n",
        "    Min: 2024-01-01 00:00:00\n",
        "    Max: 2024-03-31 23:00:00\n",
        "\n",
        "    This tells me I have 3 full months of hourly data (Which is great for time-series)\n",
        "\n",
        "2. Temperature_C:\n",
        "  Mean: 22.14^C : mild average\n",
        "  Min: 2.56^C: very cold\n",
        "  Max: 41.56^C: Very hot (could be an outlier)\n",
        "  std: 6.09 : Good variation\n",
        "  Nulls: about 3% : Clean with median\n",
        "\n",
        "3. Hour\n",
        "Ranges from 0 to 23.\n",
        "\n",
        "Mean is 11.5 → Data is evenly distributed across the day.\n",
        "\n",
        "I’ll use this to analyze peak demand hours, example:\n",
        "\n",
        "Morning spikes?\n",
        "\n",
        "Evening peak between 17:00–21:00?\n",
        "\n",
        "4. IsHoliday\n",
        "0 (non-holiday), 1 (holiday)\n",
        "\n",
        "Mean = 0.0329 → only ~3% of hours are on holidays.\n",
        "\n",
        "Use this to check if holidays lower demand (they usually do in workplaces, increase it in homes).\n",
        "\n",
        "5. Demand_MW:\n",
        "Mean\t327 MW\tAverage usage\n",
        "Min\t188 MW\tLow demand period\n",
        "Max\t519 MW\tPeak demand\n",
        "Std\t~50 MW\tLarge variability.\n",
        "Useful for:\n",
        "\n",
        "a. Modeling volatility (demand spikes)\n",
        "\n",
        "b. Detecting high usage hours/regions\n",
        "\n",
        "c. Checking correlation with temperature"
      ],
      "metadata": {
        "id": "W4UMPqWfXksa"
      }
    },
    {
      "cell_type": "code",
      "source": [
        "df.isnull().sum()"
      ],
      "metadata": {
        "colab": {
          "base_uri": "https://localhost:8080/",
          "height": 304
        },
        "id": "UbhTCXYyPNpn",
        "outputId": "29aeb211-458c-4436-d8a2-101b1d05f109"
      },
      "execution_count": 9,
      "outputs": [
        {
          "output_type": "execute_result",
          "data": {
            "text/plain": [
              "DateTime          0\n",
              "Region            0\n",
              "Temperature_C    65\n",
              "DayOfWeek         0\n",
              "Hour              0\n",
              "IsHoliday         0\n",
              "Demand_MW        65\n",
              "dtype: int64"
            ],
            "text/html": [
              "<div>\n",
              "<style scoped>\n",
              "    .dataframe tbody tr th:only-of-type {\n",
              "        vertical-align: middle;\n",
              "    }\n",
              "\n",
              "    .dataframe tbody tr th {\n",
              "        vertical-align: top;\n",
              "    }\n",
              "\n",
              "    .dataframe thead th {\n",
              "        text-align: right;\n",
              "    }\n",
              "</style>\n",
              "<table border=\"1\" class=\"dataframe\">\n",
              "  <thead>\n",
              "    <tr style=\"text-align: right;\">\n",
              "      <th></th>\n",
              "      <th>0</th>\n",
              "    </tr>\n",
              "  </thead>\n",
              "  <tbody>\n",
              "    <tr>\n",
              "      <th>DateTime</th>\n",
              "      <td>0</td>\n",
              "    </tr>\n",
              "    <tr>\n",
              "      <th>Region</th>\n",
              "      <td>0</td>\n",
              "    </tr>\n",
              "    <tr>\n",
              "      <th>Temperature_C</th>\n",
              "      <td>65</td>\n",
              "    </tr>\n",
              "    <tr>\n",
              "      <th>DayOfWeek</th>\n",
              "      <td>0</td>\n",
              "    </tr>\n",
              "    <tr>\n",
              "      <th>Hour</th>\n",
              "      <td>0</td>\n",
              "    </tr>\n",
              "    <tr>\n",
              "      <th>IsHoliday</th>\n",
              "      <td>0</td>\n",
              "    </tr>\n",
              "    <tr>\n",
              "      <th>Demand_MW</th>\n",
              "      <td>65</td>\n",
              "    </tr>\n",
              "  </tbody>\n",
              "</table>\n",
              "</div><br><label><b>dtype:</b> int64</label>"
            ]
          },
          "metadata": {},
          "execution_count": 9
        }
      ]
    },
    {
      "cell_type": "code",
      "source": [
        "# Since I have established that Temperature_C has missing values in different regions, I will\n",
        "#fill them with the median temperature for each region. Why: to preserve local patterns.\n",
        "\n",
        "df['Temperature_C']=df.groupby('Region')['Temperature_C'].transform(lambda x: x.fillna(x.median()))"
      ],
      "metadata": {
        "id": "6-xbA1g-Z3UN"
      },
      "execution_count": 10,
      "outputs": []
    },
    {
      "cell_type": "code",
      "source": [
        "#Checking:\n",
        "\n",
        "df['Temperature_C'].isnull().sum()"
      ],
      "metadata": {
        "colab": {
          "base_uri": "https://localhost:8080/"
        },
        "id": "5N7UXGInalH-",
        "outputId": "c1f5ba4d-1744-48dc-a1c2-3f8446309bf4"
      },
      "execution_count": 11,
      "outputs": [
        {
          "output_type": "execute_result",
          "data": {
            "text/plain": [
              "np.int64(0)"
            ]
          },
          "metadata": {},
          "execution_count": 11
        }
      ]
    },
    {
      "cell_type": "code",
      "source": [
        "# Good, so now the Temperature_C column has been filled with the median temperature using the lambda function\n",
        "\n",
        "#Now I will handle missing values for the Demand_MW column\n",
        "#This is my Target column. I cannot lose any rows, so I will interpolate to estimate the missing values, while keeping time continuity.\n",
        "\n",
        "df['Demand_MW']= df['Demand_MW'].interpolate()"
      ],
      "metadata": {
        "id": "iwikviNWbR2h"
      },
      "execution_count": 12,
      "outputs": []
    },
    {
      "cell_type": "code",
      "source": [
        "# checking:\n",
        "\n",
        "df['Demand_MW'].isnull().sum()"
      ],
      "metadata": {
        "colab": {
          "base_uri": "https://localhost:8080/"
        },
        "id": "mzySl7pbcHS5",
        "outputId": "e6d0a0c1-6f5f-4da2-dd7b-88dc4c89b5e0"
      },
      "execution_count": 13,
      "outputs": [
        {
          "output_type": "execute_result",
          "data": {
            "text/plain": [
              "np.int64(0)"
            ]
          },
          "metadata": {},
          "execution_count": 13
        }
      ]
    },
    {
      "cell_type": "code",
      "source": [
        "#Converting IsHoliday to Boolean\n",
        "\n",
        "df['IsHoliday']= df['IsHoliday'].astype(bool)"
      ],
      "metadata": {
        "id": "dfv7AQwwcPkU"
      },
      "execution_count": 14,
      "outputs": []
    },
    {
      "cell_type": "code",
      "source": [
        "#Now making sure that the DateTime column is in datetime format:\n",
        "\n",
        "df['DateTime']= pd.to_datetime(df['DateTime'])\n",
        "\n",
        "#then I am creating a clean Date Column (with no time):\n",
        "\n",
        "df['Date']= df['DateTime'].dt.date"
      ],
      "metadata": {
        "id": "3MlLhrg8ceOd"
      },
      "execution_count": 15,
      "outputs": []
    },
    {
      "cell_type": "code",
      "source": [
        "# checking for any left over nulls:\n",
        "\n",
        "df.isnull().sum()"
      ],
      "metadata": {
        "colab": {
          "base_uri": "https://localhost:8080/",
          "height": 335
        },
        "id": "DR64th3mc9kk",
        "outputId": "5edd1f9e-20e8-4ba9-d2ac-a5c1eff0165d"
      },
      "execution_count": 16,
      "outputs": [
        {
          "output_type": "execute_result",
          "data": {
            "text/plain": [
              "DateTime         0\n",
              "Region           0\n",
              "Temperature_C    0\n",
              "DayOfWeek        0\n",
              "Hour             0\n",
              "IsHoliday        0\n",
              "Demand_MW        0\n",
              "Date             0\n",
              "dtype: int64"
            ],
            "text/html": [
              "<div>\n",
              "<style scoped>\n",
              "    .dataframe tbody tr th:only-of-type {\n",
              "        vertical-align: middle;\n",
              "    }\n",
              "\n",
              "    .dataframe tbody tr th {\n",
              "        vertical-align: top;\n",
              "    }\n",
              "\n",
              "    .dataframe thead th {\n",
              "        text-align: right;\n",
              "    }\n",
              "</style>\n",
              "<table border=\"1\" class=\"dataframe\">\n",
              "  <thead>\n",
              "    <tr style=\"text-align: right;\">\n",
              "      <th></th>\n",
              "      <th>0</th>\n",
              "    </tr>\n",
              "  </thead>\n",
              "  <tbody>\n",
              "    <tr>\n",
              "      <th>DateTime</th>\n",
              "      <td>0</td>\n",
              "    </tr>\n",
              "    <tr>\n",
              "      <th>Region</th>\n",
              "      <td>0</td>\n",
              "    </tr>\n",
              "    <tr>\n",
              "      <th>Temperature_C</th>\n",
              "      <td>0</td>\n",
              "    </tr>\n",
              "    <tr>\n",
              "      <th>DayOfWeek</th>\n",
              "      <td>0</td>\n",
              "    </tr>\n",
              "    <tr>\n",
              "      <th>Hour</th>\n",
              "      <td>0</td>\n",
              "    </tr>\n",
              "    <tr>\n",
              "      <th>IsHoliday</th>\n",
              "      <td>0</td>\n",
              "    </tr>\n",
              "    <tr>\n",
              "      <th>Demand_MW</th>\n",
              "      <td>0</td>\n",
              "    </tr>\n",
              "    <tr>\n",
              "      <th>Date</th>\n",
              "      <td>0</td>\n",
              "    </tr>\n",
              "  </tbody>\n",
              "</table>\n",
              "</div><br><label><b>dtype:</b> int64</label>"
            ]
          },
          "metadata": {},
          "execution_count": 16
        }
      ]
    },
    {
      "cell_type": "code",
      "source": [
        "#Checking again:\n",
        "\n",
        "df.info()\n",
        "df.describe()"
      ],
      "metadata": {
        "colab": {
          "base_uri": "https://localhost:8080/",
          "height": 561
        },
        "id": "v9_MSbSkdHHq",
        "outputId": "5931fe56-ad6f-4d7c-d305-92a9d81ae772"
      },
      "execution_count": 17,
      "outputs": [
        {
          "output_type": "stream",
          "name": "stdout",
          "text": [
            "<class 'pandas.core.frame.DataFrame'>\n",
            "RangeIndex: 2184 entries, 0 to 2183\n",
            "Data columns (total 8 columns):\n",
            " #   Column         Non-Null Count  Dtype         \n",
            "---  ------         --------------  -----         \n",
            " 0   DateTime       2184 non-null   datetime64[ns]\n",
            " 1   Region         2184 non-null   object        \n",
            " 2   Temperature_C  2184 non-null   float64       \n",
            " 3   DayOfWeek      2184 non-null   object        \n",
            " 4   Hour           2184 non-null   int64         \n",
            " 5   IsHoliday      2184 non-null   bool          \n",
            " 6   Demand_MW      2184 non-null   float64       \n",
            " 7   Date           2184 non-null   object        \n",
            "dtypes: bool(1), datetime64[ns](1), float64(2), int64(1), object(3)\n",
            "memory usage: 121.7+ KB\n"
          ]
        },
        {
          "output_type": "execute_result",
          "data": {
            "text/plain": [
              "                  DateTime  Temperature_C         Hour    Demand_MW\n",
              "count                 2184    2184.000000  2184.000000  2184.000000\n",
              "mean   2024-02-15 11:30:00      22.142933    11.500000   327.343129\n",
              "min    2024-01-01 00:00:00       2.563374     0.000000   188.180792\n",
              "25%    2024-01-23 17:45:00      18.169160     5.750000   294.677524\n",
              "50%    2024-02-15 11:30:00      22.117977    11.500000   323.519840\n",
              "75%    2024-03-09 05:15:00      26.103790    17.250000   357.555904\n",
              "max    2024-03-31 23:00:00      41.562946    23.000000   519.762752\n",
              "std                    NaN       6.002090     6.923772    49.556758"
            ],
            "text/html": [
              "\n",
              "  <div id=\"df-2c64d35d-9aa5-44b0-9a0a-f41ad6130a2f\" class=\"colab-df-container\">\n",
              "    <div>\n",
              "<style scoped>\n",
              "    .dataframe tbody tr th:only-of-type {\n",
              "        vertical-align: middle;\n",
              "    }\n",
              "\n",
              "    .dataframe tbody tr th {\n",
              "        vertical-align: top;\n",
              "    }\n",
              "\n",
              "    .dataframe thead th {\n",
              "        text-align: right;\n",
              "    }\n",
              "</style>\n",
              "<table border=\"1\" class=\"dataframe\">\n",
              "  <thead>\n",
              "    <tr style=\"text-align: right;\">\n",
              "      <th></th>\n",
              "      <th>DateTime</th>\n",
              "      <th>Temperature_C</th>\n",
              "      <th>Hour</th>\n",
              "      <th>Demand_MW</th>\n",
              "    </tr>\n",
              "  </thead>\n",
              "  <tbody>\n",
              "    <tr>\n",
              "      <th>count</th>\n",
              "      <td>2184</td>\n",
              "      <td>2184.000000</td>\n",
              "      <td>2184.000000</td>\n",
              "      <td>2184.000000</td>\n",
              "    </tr>\n",
              "    <tr>\n",
              "      <th>mean</th>\n",
              "      <td>2024-02-15 11:30:00</td>\n",
              "      <td>22.142933</td>\n",
              "      <td>11.500000</td>\n",
              "      <td>327.343129</td>\n",
              "    </tr>\n",
              "    <tr>\n",
              "      <th>min</th>\n",
              "      <td>2024-01-01 00:00:00</td>\n",
              "      <td>2.563374</td>\n",
              "      <td>0.000000</td>\n",
              "      <td>188.180792</td>\n",
              "    </tr>\n",
              "    <tr>\n",
              "      <th>25%</th>\n",
              "      <td>2024-01-23 17:45:00</td>\n",
              "      <td>18.169160</td>\n",
              "      <td>5.750000</td>\n",
              "      <td>294.677524</td>\n",
              "    </tr>\n",
              "    <tr>\n",
              "      <th>50%</th>\n",
              "      <td>2024-02-15 11:30:00</td>\n",
              "      <td>22.117977</td>\n",
              "      <td>11.500000</td>\n",
              "      <td>323.519840</td>\n",
              "    </tr>\n",
              "    <tr>\n",
              "      <th>75%</th>\n",
              "      <td>2024-03-09 05:15:00</td>\n",
              "      <td>26.103790</td>\n",
              "      <td>17.250000</td>\n",
              "      <td>357.555904</td>\n",
              "    </tr>\n",
              "    <tr>\n",
              "      <th>max</th>\n",
              "      <td>2024-03-31 23:00:00</td>\n",
              "      <td>41.562946</td>\n",
              "      <td>23.000000</td>\n",
              "      <td>519.762752</td>\n",
              "    </tr>\n",
              "    <tr>\n",
              "      <th>std</th>\n",
              "      <td>NaN</td>\n",
              "      <td>6.002090</td>\n",
              "      <td>6.923772</td>\n",
              "      <td>49.556758</td>\n",
              "    </tr>\n",
              "  </tbody>\n",
              "</table>\n",
              "</div>\n",
              "    <div class=\"colab-df-buttons\">\n",
              "\n",
              "  <div class=\"colab-df-container\">\n",
              "    <button class=\"colab-df-convert\" onclick=\"convertToInteractive('df-2c64d35d-9aa5-44b0-9a0a-f41ad6130a2f')\"\n",
              "            title=\"Convert this dataframe to an interactive table.\"\n",
              "            style=\"display:none;\">\n",
              "\n",
              "  <svg xmlns=\"http://www.w3.org/2000/svg\" height=\"24px\" viewBox=\"0 -960 960 960\">\n",
              "    <path d=\"M120-120v-720h720v720H120Zm60-500h600v-160H180v160Zm220 220h160v-160H400v160Zm0 220h160v-160H400v160ZM180-400h160v-160H180v160Zm440 0h160v-160H620v160ZM180-180h160v-160H180v160Zm440 0h160v-160H620v160Z\"/>\n",
              "  </svg>\n",
              "    </button>\n",
              "\n",
              "  <style>\n",
              "    .colab-df-container {\n",
              "      display:flex;\n",
              "      gap: 12px;\n",
              "    }\n",
              "\n",
              "    .colab-df-convert {\n",
              "      background-color: #E8F0FE;\n",
              "      border: none;\n",
              "      border-radius: 50%;\n",
              "      cursor: pointer;\n",
              "      display: none;\n",
              "      fill: #1967D2;\n",
              "      height: 32px;\n",
              "      padding: 0 0 0 0;\n",
              "      width: 32px;\n",
              "    }\n",
              "\n",
              "    .colab-df-convert:hover {\n",
              "      background-color: #E2EBFA;\n",
              "      box-shadow: 0px 1px 2px rgba(60, 64, 67, 0.3), 0px 1px 3px 1px rgba(60, 64, 67, 0.15);\n",
              "      fill: #174EA6;\n",
              "    }\n",
              "\n",
              "    .colab-df-buttons div {\n",
              "      margin-bottom: 4px;\n",
              "    }\n",
              "\n",
              "    [theme=dark] .colab-df-convert {\n",
              "      background-color: #3B4455;\n",
              "      fill: #D2E3FC;\n",
              "    }\n",
              "\n",
              "    [theme=dark] .colab-df-convert:hover {\n",
              "      background-color: #434B5C;\n",
              "      box-shadow: 0px 1px 3px 1px rgba(0, 0, 0, 0.15);\n",
              "      filter: drop-shadow(0px 1px 2px rgba(0, 0, 0, 0.3));\n",
              "      fill: #FFFFFF;\n",
              "    }\n",
              "  </style>\n",
              "\n",
              "    <script>\n",
              "      const buttonEl =\n",
              "        document.querySelector('#df-2c64d35d-9aa5-44b0-9a0a-f41ad6130a2f button.colab-df-convert');\n",
              "      buttonEl.style.display =\n",
              "        google.colab.kernel.accessAllowed ? 'block' : 'none';\n",
              "\n",
              "      async function convertToInteractive(key) {\n",
              "        const element = document.querySelector('#df-2c64d35d-9aa5-44b0-9a0a-f41ad6130a2f');\n",
              "        const dataTable =\n",
              "          await google.colab.kernel.invokeFunction('convertToInteractive',\n",
              "                                                    [key], {});\n",
              "        if (!dataTable) return;\n",
              "\n",
              "        const docLinkHtml = 'Like what you see? Visit the ' +\n",
              "          '<a target=\"_blank\" href=https://colab.research.google.com/notebooks/data_table.ipynb>data table notebook</a>'\n",
              "          + ' to learn more about interactive tables.';\n",
              "        element.innerHTML = '';\n",
              "        dataTable['output_type'] = 'display_data';\n",
              "        await google.colab.output.renderOutput(dataTable, element);\n",
              "        const docLink = document.createElement('div');\n",
              "        docLink.innerHTML = docLinkHtml;\n",
              "        element.appendChild(docLink);\n",
              "      }\n",
              "    </script>\n",
              "  </div>\n",
              "\n",
              "\n",
              "<div id=\"df-3d5754d7-9d35-4c85-b8b4-80925148704b\">\n",
              "  <button class=\"colab-df-quickchart\" onclick=\"quickchart('df-3d5754d7-9d35-4c85-b8b4-80925148704b')\"\n",
              "            title=\"Suggest charts\"\n",
              "            style=\"display:none;\">\n",
              "\n",
              "<svg xmlns=\"http://www.w3.org/2000/svg\" height=\"24px\"viewBox=\"0 0 24 24\"\n",
              "     width=\"24px\">\n",
              "    <g>\n",
              "        <path d=\"M19 3H5c-1.1 0-2 .9-2 2v14c0 1.1.9 2 2 2h14c1.1 0 2-.9 2-2V5c0-1.1-.9-2-2-2zM9 17H7v-7h2v7zm4 0h-2V7h2v10zm4 0h-2v-4h2v4z\"/>\n",
              "    </g>\n",
              "</svg>\n",
              "  </button>\n",
              "\n",
              "<style>\n",
              "  .colab-df-quickchart {\n",
              "      --bg-color: #E8F0FE;\n",
              "      --fill-color: #1967D2;\n",
              "      --hover-bg-color: #E2EBFA;\n",
              "      --hover-fill-color: #174EA6;\n",
              "      --disabled-fill-color: #AAA;\n",
              "      --disabled-bg-color: #DDD;\n",
              "  }\n",
              "\n",
              "  [theme=dark] .colab-df-quickchart {\n",
              "      --bg-color: #3B4455;\n",
              "      --fill-color: #D2E3FC;\n",
              "      --hover-bg-color: #434B5C;\n",
              "      --hover-fill-color: #FFFFFF;\n",
              "      --disabled-bg-color: #3B4455;\n",
              "      --disabled-fill-color: #666;\n",
              "  }\n",
              "\n",
              "  .colab-df-quickchart {\n",
              "    background-color: var(--bg-color);\n",
              "    border: none;\n",
              "    border-radius: 50%;\n",
              "    cursor: pointer;\n",
              "    display: none;\n",
              "    fill: var(--fill-color);\n",
              "    height: 32px;\n",
              "    padding: 0;\n",
              "    width: 32px;\n",
              "  }\n",
              "\n",
              "  .colab-df-quickchart:hover {\n",
              "    background-color: var(--hover-bg-color);\n",
              "    box-shadow: 0 1px 2px rgba(60, 64, 67, 0.3), 0 1px 3px 1px rgba(60, 64, 67, 0.15);\n",
              "    fill: var(--button-hover-fill-color);\n",
              "  }\n",
              "\n",
              "  .colab-df-quickchart-complete:disabled,\n",
              "  .colab-df-quickchart-complete:disabled:hover {\n",
              "    background-color: var(--disabled-bg-color);\n",
              "    fill: var(--disabled-fill-color);\n",
              "    box-shadow: none;\n",
              "  }\n",
              "\n",
              "  .colab-df-spinner {\n",
              "    border: 2px solid var(--fill-color);\n",
              "    border-color: transparent;\n",
              "    border-bottom-color: var(--fill-color);\n",
              "    animation:\n",
              "      spin 1s steps(1) infinite;\n",
              "  }\n",
              "\n",
              "  @keyframes spin {\n",
              "    0% {\n",
              "      border-color: transparent;\n",
              "      border-bottom-color: var(--fill-color);\n",
              "      border-left-color: var(--fill-color);\n",
              "    }\n",
              "    20% {\n",
              "      border-color: transparent;\n",
              "      border-left-color: var(--fill-color);\n",
              "      border-top-color: var(--fill-color);\n",
              "    }\n",
              "    30% {\n",
              "      border-color: transparent;\n",
              "      border-left-color: var(--fill-color);\n",
              "      border-top-color: var(--fill-color);\n",
              "      border-right-color: var(--fill-color);\n",
              "    }\n",
              "    40% {\n",
              "      border-color: transparent;\n",
              "      border-right-color: var(--fill-color);\n",
              "      border-top-color: var(--fill-color);\n",
              "    }\n",
              "    60% {\n",
              "      border-color: transparent;\n",
              "      border-right-color: var(--fill-color);\n",
              "    }\n",
              "    80% {\n",
              "      border-color: transparent;\n",
              "      border-right-color: var(--fill-color);\n",
              "      border-bottom-color: var(--fill-color);\n",
              "    }\n",
              "    90% {\n",
              "      border-color: transparent;\n",
              "      border-bottom-color: var(--fill-color);\n",
              "    }\n",
              "  }\n",
              "</style>\n",
              "\n",
              "  <script>\n",
              "    async function quickchart(key) {\n",
              "      const quickchartButtonEl =\n",
              "        document.querySelector('#' + key + ' button');\n",
              "      quickchartButtonEl.disabled = true;  // To prevent multiple clicks.\n",
              "      quickchartButtonEl.classList.add('colab-df-spinner');\n",
              "      try {\n",
              "        const charts = await google.colab.kernel.invokeFunction(\n",
              "            'suggestCharts', [key], {});\n",
              "      } catch (error) {\n",
              "        console.error('Error during call to suggestCharts:', error);\n",
              "      }\n",
              "      quickchartButtonEl.classList.remove('colab-df-spinner');\n",
              "      quickchartButtonEl.classList.add('colab-df-quickchart-complete');\n",
              "    }\n",
              "    (() => {\n",
              "      let quickchartButtonEl =\n",
              "        document.querySelector('#df-3d5754d7-9d35-4c85-b8b4-80925148704b button');\n",
              "      quickchartButtonEl.style.display =\n",
              "        google.colab.kernel.accessAllowed ? 'block' : 'none';\n",
              "    })();\n",
              "  </script>\n",
              "</div>\n",
              "\n",
              "    </div>\n",
              "  </div>\n"
            ],
            "application/vnd.google.colaboratory.intrinsic+json": {
              "type": "dataframe",
              "summary": "{\n  \"name\": \"df\",\n  \"rows\": 8,\n  \"fields\": [\n    {\n      \"column\": \"DateTime\",\n      \"properties\": {\n        \"dtype\": \"date\",\n        \"min\": \"1970-01-01 00:00:00.000002184\",\n        \"max\": \"2024-03-31 23:00:00\",\n        \"num_unique_values\": 6,\n        \"samples\": [\n          \"2184\",\n          \"2024-02-15 11:30:00\",\n          \"2024-03-31 23:00:00\"\n        ],\n        \"semantic_type\": \"\",\n        \"description\": \"\"\n      }\n    },\n    {\n      \"column\": \"Temperature_C\",\n      \"properties\": {\n        \"dtype\": \"number\",\n        \"std\": 765.2517897572452,\n        \"min\": 2.563373650359587,\n        \"max\": 2184.0,\n        \"num_unique_values\": 8,\n        \"samples\": [\n          22.142933155042236,\n          26.103790002373486,\n          2184.0\n        ],\n        \"semantic_type\": \"\",\n        \"description\": \"\"\n      }\n    },\n    {\n      \"column\": \"Hour\",\n      \"properties\": {\n        \"dtype\": \"number\",\n        \"std\": 768.3582806214594,\n        \"min\": 0.0,\n        \"max\": 2184.0,\n        \"num_unique_values\": 7,\n        \"samples\": [\n          2184.0,\n          11.5,\n          23.0\n        ],\n        \"semantic_type\": \"\",\n        \"description\": \"\"\n      }\n    },\n    {\n      \"column\": \"Demand_MW\",\n      \"properties\": {\n        \"dtype\": \"number\",\n        \"std\": 681.6263888020083,\n        \"min\": 49.556757921370455,\n        \"max\": 2184.0,\n        \"num_unique_values\": 8,\n        \"samples\": [\n          327.34312874692984,\n          357.55590388787573,\n          2184.0\n        ],\n        \"semantic_type\": \"\",\n        \"description\": \"\"\n      }\n    }\n  ]\n}"
            }
          },
          "metadata": {},
          "execution_count": 17
        }
      ]
    },
    {
      "cell_type": "code",
      "source": [
        "# I can see that the 'Date' column is in an object data type. I need to fix this:\n",
        "\n",
        "df['Date']= pd.to_datetime(df['DateTime'].dt.date)"
      ],
      "metadata": {
        "id": "zEl-9Xosdsz7"
      },
      "execution_count": 18,
      "outputs": []
    },
    {
      "cell_type": "code",
      "source": [
        "df.dtypes"
      ],
      "metadata": {
        "colab": {
          "base_uri": "https://localhost:8080/",
          "height": 335
        },
        "id": "aEBpfwFOeRwj",
        "outputId": "2e3f6f5e-b151-4b10-858d-6db35db099c3"
      },
      "execution_count": 19,
      "outputs": [
        {
          "output_type": "execute_result",
          "data": {
            "text/plain": [
              "DateTime         datetime64[ns]\n",
              "Region                   object\n",
              "Temperature_C           float64\n",
              "DayOfWeek                object\n",
              "Hour                      int64\n",
              "IsHoliday                  bool\n",
              "Demand_MW               float64\n",
              "Date             datetime64[ns]\n",
              "dtype: object"
            ],
            "text/html": [
              "<div>\n",
              "<style scoped>\n",
              "    .dataframe tbody tr th:only-of-type {\n",
              "        vertical-align: middle;\n",
              "    }\n",
              "\n",
              "    .dataframe tbody tr th {\n",
              "        vertical-align: top;\n",
              "    }\n",
              "\n",
              "    .dataframe thead th {\n",
              "        text-align: right;\n",
              "    }\n",
              "</style>\n",
              "<table border=\"1\" class=\"dataframe\">\n",
              "  <thead>\n",
              "    <tr style=\"text-align: right;\">\n",
              "      <th></th>\n",
              "      <th>0</th>\n",
              "    </tr>\n",
              "  </thead>\n",
              "  <tbody>\n",
              "    <tr>\n",
              "      <th>DateTime</th>\n",
              "      <td>datetime64[ns]</td>\n",
              "    </tr>\n",
              "    <tr>\n",
              "      <th>Region</th>\n",
              "      <td>object</td>\n",
              "    </tr>\n",
              "    <tr>\n",
              "      <th>Temperature_C</th>\n",
              "      <td>float64</td>\n",
              "    </tr>\n",
              "    <tr>\n",
              "      <th>DayOfWeek</th>\n",
              "      <td>object</td>\n",
              "    </tr>\n",
              "    <tr>\n",
              "      <th>Hour</th>\n",
              "      <td>int64</td>\n",
              "    </tr>\n",
              "    <tr>\n",
              "      <th>IsHoliday</th>\n",
              "      <td>bool</td>\n",
              "    </tr>\n",
              "    <tr>\n",
              "      <th>Demand_MW</th>\n",
              "      <td>float64</td>\n",
              "    </tr>\n",
              "    <tr>\n",
              "      <th>Date</th>\n",
              "      <td>datetime64[ns]</td>\n",
              "    </tr>\n",
              "  </tbody>\n",
              "</table>\n",
              "</div><br><label><b>dtype:</b> object</label>"
            ]
          },
          "metadata": {},
          "execution_count": 19
        }
      ]
    },
    {
      "cell_type": "code",
      "source": [
        "# Okay the Date column is convertet into a date format"
      ],
      "metadata": {
        "id": "wyzjR710eW9T"
      },
      "execution_count": null,
      "outputs": []
    },
    {
      "cell_type": "markdown",
      "source": [
        "## For the ARIMA model, it can't work with text directly. For example a region could be 'Cape Town', 'Johannesburg' etc. So I need to convert those strings into numbers. That is what Encoding is.\n",
        "\n",
        "Label Encoding: Assigns each unique category a number. So for example, I can make data collected for Cape Town for that day be 0.\n",
        " Cape Town = 0, Durban =1, Johannesburg= 2. Since Region is just a label (no rank or order). Note that this is not great for linear models that would think of 2>1 etc."
      ],
      "metadata": {
        "id": "uqvTFDqWetLp"
      }
    },
    {
      "cell_type": "code",
      "source": [
        "from sklearn.preprocessing import LabelEncoder\n",
        "\n",
        "le= LabelEncoder()\n",
        "df['Region']= le.fit_transform(df['Region'])\n",
        "\n",
        "# seeing the mapping:\n",
        "region_mapping= dict(zip(le.classes_, le.transform(le.classes_)))\n",
        "print(region_mapping)"
      ],
      "metadata": {
        "colab": {
          "base_uri": "https://localhost:8080/"
        },
        "id": "HrOQaiCof1Y4",
        "outputId": "38505d49-38b7-45ab-cc26-e26e722a2b2f"
      },
      "execution_count": 20,
      "outputs": [
        {
          "output_type": "stream",
          "name": "stdout",
          "text": [
            "{'Central': np.int64(0), 'East': np.int64(1), 'North': np.int64(2), 'South': np.int64(3), 'West': np.int64(4)}\n"
          ]
        }
      ]
    },
    {
      "cell_type": "code",
      "source": [
        "# For the above\n",
        "\n",
        "# .fit(): figures out which unique region exists.\n",
        "# .transform() : replaces each region with its numeric code\n",
        "\n",
        "# Mapping just shows me the categories as numbers"
      ],
      "metadata": {
        "id": "hH7612ethlY1"
      },
      "execution_count": 21,
      "outputs": []
    },
    {
      "cell_type": "markdown",
      "source": [
        "But I can see that the Region Column already had been numeric before applying the label encoder since it returned: {np.int64(0): np.int64(0), np.int64(1): np.int64(1), ...}\n",
        " So I need to retain the original 'Region' names.\n",
        "\n"
      ],
      "metadata": {
        "id": "NWJKpKNVi98t"
      }
    },
    {
      "cell_type": "code",
      "source": [
        "print(df['Region'].unique())\n",
        "print(df['Region'].dtype)"
      ],
      "metadata": {
        "colab": {
          "base_uri": "https://localhost:8080/"
        },
        "id": "EdCY_-0_lMto",
        "outputId": "0ce38be1-fede-499c-d948-653f55150e08"
      },
      "execution_count": 22,
      "outputs": [
        {
          "output_type": "stream",
          "name": "stdout",
          "text": [
            "[4 0 1 3 2]\n",
            "int64\n"
          ]
        }
      ]
    },
    {
      "cell_type": "code",
      "source": [
        "region_reverse_map= {0: 'Central',\n",
        "                     1: 'East',\n",
        "                     2: 'North',\n",
        "                     3: 'South',\n",
        "                     4: 'West'\n",
        "\n",
        "}\n",
        "df['Region']= df['Region'].map(region_reverse_map)\n",
        "print(df['Region'].unique())\n",
        "print(df['Region'].dtype)\n"
      ],
      "metadata": {
        "colab": {
          "base_uri": "https://localhost:8080/"
        },
        "id": "FE1dKsYolcn5",
        "outputId": "736253aa-43ef-4c1f-bdf8-30ada715957d"
      },
      "execution_count": 23,
      "outputs": [
        {
          "output_type": "stream",
          "name": "stdout",
          "text": [
            "['West' 'Central' 'East' 'South' 'North']\n",
            "object\n"
          ]
        }
      ]
    },
    {
      "cell_type": "code",
      "source": [
        "# Now I'll safely encode:\n",
        "\n",
        "from sklearn.preprocessing import LabelEncoder\n",
        "\n",
        "le = LabelEncoder()\n",
        "df['Region_Label'] = le.fit_transform(df['Region'])\n",
        "\n",
        "region_mapping = dict(zip(le.classes_, le.transform(le.classes_)))\n",
        "print(region_mapping)\n"
      ],
      "metadata": {
        "colab": {
          "base_uri": "https://localhost:8080/"
        },
        "id": "E3K8T112mHxh",
        "outputId": "dcf8bc26-c250-4b06-b3b2-f0c2f7b0f29d"
      },
      "execution_count": 24,
      "outputs": [
        {
          "output_type": "stream",
          "name": "stdout",
          "text": [
            "{'Central': np.int64(0), 'East': np.int64(1), 'North': np.int64(2), 'South': np.int64(3), 'West': np.int64(4)}\n"
          ]
        }
      ]
    },
    {
      "cell_type": "code",
      "source": [
        "# Calculating Correlations\n",
        "\n",
        "corr_Matrix= df.corr(numeric_only= True)\n",
        "\n",
        "print(corr_Matrix)"
      ],
      "metadata": {
        "colab": {
          "base_uri": "https://localhost:8080/"
        },
        "id": "oVH0xj7WmctV",
        "outputId": "2ae61a5f-3739-468b-bdea-6617d2d3bb4a"
      },
      "execution_count": 25,
      "outputs": [
        {
          "output_type": "stream",
          "name": "stdout",
          "text": [
            "               Temperature_C          Hour     IsHoliday  Demand_MW  \\\n",
            "Temperature_C       1.000000 -9.436711e-03  1.476823e-02  -0.714931   \n",
            "Hour               -0.009437  1.000000e+00  2.584991e-17   0.461566   \n",
            "IsHoliday           0.014768  2.584991e-17  1.000000e+00  -0.186817   \n",
            "Demand_MW          -0.714931  4.615657e-01 -1.868169e-01   1.000000   \n",
            "Region_Label        0.016835 -3.960910e-02 -9.551723e-04  -0.043315   \n",
            "\n",
            "               Region_Label  \n",
            "Temperature_C      0.016835  \n",
            "Hour              -0.039609  \n",
            "IsHoliday         -0.000955  \n",
            "Demand_MW         -0.043315  \n",
            "Region_Label       1.000000  \n"
          ]
        }
      ]
    },
    {
      "cell_type": "markdown",
      "source": [
        "# **Interpreting the Strength of Correlation:**\n",
        "Here’s a general guideline for interpreting the magnitude of correlation coefficients:\n",
        "\n",
        "0.0 to 0.2 (or -0.2 to 0.0): Very weak or negligible correlation.\n",
        "\n",
        "0.2 to 0.4 (or -0.4 to -0.2): Weak correlation.\n",
        "\n",
        "0.4 to 0.6 (or -0.6 to -0.4): Moderate correlation.\n",
        "\n",
        "0.6 to 0.8 (or -0.8 to -0.6): Strong correlation.\n",
        "\n",
        "0.8 to 1.0 (or -1.0 to -0.8): Very strong or high correlation."
      ],
      "metadata": {
        "id": "PEMrLDPgoYsA"
      }
    },
    {
      "cell_type": "markdown",
      "source": [
        "# Interpreting these correlations with respect to Demand_MW:\n",
        "\n",
        "1. Temperature_C:correlation is -0.71. This is a strong negative correlatio, example: as the temperature increases, there is less electricity demand. It could mean that people may use less electricity in general during hotter months.\n",
        "\n",
        "2. Hour: correlation is 0.46. This is a moderate correlation, it means that demand increases as the day goes on. This could be because consumption rises during peak times- during evenings people return home and use more appliances.\n",
        "\n",
        "3. IsHoliday: correlation is -0.19. This is a very weak correlation. Demand tends to decrease during holidays. Could be likely due to fewer businesses are operating, leading to lower electricity use.\n",
        "\n",
        "4. Region_Label: corrrelation is -0.04. This is a very weak negative correlation with demand. This would mean that REGION itself does not significantly impact demand based on this dataset, other factors do (like temperature etc).\n"
      ],
      "metadata": {
        "id": "cNpXiVcJm_lB"
      }
    },
    {
      "cell_type": "markdown",
      "source": [
        "# EDA: To make insights even Clearer"
      ],
      "metadata": {
        "id": "OGlogpygq7oE"
      }
    },
    {
      "cell_type": "code",
      "source": [
        "#Since Temperature_C has a strong negative correlation, I will explore it.\n",
        "\n",
        "import matplotlib.pyplot as plt\n",
        "\n",
        "plt.figure(figsize=(8,5))\n",
        "plt.scatter(df['Temperature_C'], df['Demand_MW'], alpha=0.5, color='darkorange')\n",
        "plt.title('Temperature vs Electricity Demand')\n",
        "plt.xlabel('Temperature (°C)')\n",
        "plt.ylabel('Demand (MW)')\n",
        "plt.grid(True)\n",
        "plt.tight_layout()\n",
        "plt.show()"
      ],
      "metadata": {
        "colab": {
          "base_uri": "https://localhost:8080/",
          "height": 527
        },
        "id": "O3h0Kd69rKfv",
        "outputId": "8fb2791c-9b1f-4ac8-dea0-8d081d8ac286"
      },
      "execution_count": 28,
      "outputs": [
        {
          "output_type": "display_data",
          "data": {
            "text/plain": [
              "<Figure size 800x500 with 1 Axes>"
            ],
            "image/png": "[encoded data removed]"
          },
          "metadata": {}
        }
      ]
    },
    {
      "cell_type": "markdown",
      "source": [
        "### **Interpretation of this (above diagram):**\n",
        "\n",
        "1. Downward slope: This means that as Temperature increases, the demand for electricity decreases ---> supports the discovery of -0.71 (strong negative correlation). So with warmer days comes less electricity usage.\n",
        "2. Outliers: above 450MW when the temperature is still relatively low like <5 degrees--> this makes perfect sense because some people use heaters, electric blankets which use a lot of electricity.\n",
        "3. I can conclude that according to this dataset, Temperature is inversely related to electricity demand.\n"
      ],
      "metadata": {
        "id": "saa0brF4tD7k"
      }
    },
    {
      "cell_type": "code",
      "source": [
        "# Now the other moderate correlation was Hoir vs Demand, which I will explore.\n",
        "\n",
        "import matplotlib.pyplot as plt\n",
        "import pandas as pd\n",
        "\n",
        "# Group by hour and calculate the average demand\n",
        "avg_demand_per_hour = df.groupby('Hour')['Demand_MW'].mean()\n",
        "\n",
        "# Plotting the line graph\n",
        "plt.figure(figsize=(12,6))\n",
        "plt.plot(avg_demand_per_hour.index, avg_demand_per_hour.values, marker='o', linestyle='-', color='steelblue')\n",
        "plt.title('Average Electricity Demand per Hour of the Day')\n",
        "plt.xlabel('Hour of the Day (0 = Midnight, 23 = 11 PM)')\n",
        "plt.ylabel('Average Demand (MW)')\n",
        "plt.grid(True)\n",
        "plt.xticks(range(0, 24))\n",
        "plt.tight_layout()\n",
        "plt.show()\n"
      ],
      "metadata": {
        "colab": {
          "base_uri": "https://localhost:8080/",
          "height": 406
        },
        "id": "xdJM2y-8uT0B",
        "outputId": "26c477c4-b609-4fc6-cf5f-13f8c983f1a3"
      },
      "execution_count": 31,
      "outputs": [
        {
          "output_type": "display_data",
          "data": {
            "text/plain": [
              "<Figure size 1200x600 with 1 Axes>"
            ],
            "image/png": "[encoded data removed]"
          },
          "metadata": {}
        }
      ]
    },
    {
      "cell_type": "markdown",
      "source": [
        "# **Interpretation of this (above line graph):**\n",
        "\n",
        "1. From 0:00am until 6:00am the demand for electricity is low and steady--> this is expected as most people are asleep and businesses are closed.\n",
        "2. From 7:00am until 10:00am: There is a noticeable increase --> makes sense because people are waking up and starting to use appliences.\n",
        "3. 10:00am to 16:00pm : This is midday to afternoon, the demand for electricity is faorly and steadily rising. Businesses are operating at these hours.\n",
        "4. Then From 17:00pm until 20:00pm: Is th peak demand for electricity, this is likely due to people returning to their homes. People are likely to be using: lights, stoves, tv, computers etc.\n",
        "5. Then from 21:00pm to 23:00pm: There is a sharp decrease in the demand for electricity. This is due to people going to sleep, usage declines.\n",
        "\n"
      ],
      "metadata": {
        "id": "4AqhOtZ7vYWl"
      }
    },
    {
      "cell_type": "code",
      "source": [
        "# Preparing the Variables\n",
        "\n",
        "#1. I will be using Demand_MW as the target variable (what I am predicting).\n",
        "#2. Temperature_C and Hoir will be the features that influence my target variable.\n",
        "# Thinking of this as Target(y)= how much electricity will be used.\n",
        "# Then Features(X)= Temperature and Hour of the day.\n",
        "\n",
        "X=df[['Temperature_C', 'Hour']]\n",
        "y= df['Demand_MW']\n",
        "\n",
        "print(X.isnull().sum())\n",
        "print(y.isnull().sum())"
      ],
      "metadata": {
        "colab": {
          "base_uri": "https://localhost:8080/"
        },
        "id": "_9oHsuN_zZCz",
        "outputId": "b262aec0-f262-430a-9158-fa9fb2f661e3"
      },
      "execution_count": 33,
      "outputs": [
        {
          "output_type": "stream",
          "name": "stdout",
          "text": [
            "Temperature_C    0\n",
            "Hour             0\n",
            "dtype: int64\n",
            "0\n"
          ]
        }
      ]
    },
    {
      "cell_type": "markdown",
      "source": [
        "The next step is to check for Stationarity.\n",
        "\n",
        "Why: ARIMAX model like (ARIMA) assune the time series is stationary. This means the mean, variance, and autocorrelation of the data do not change over time,\n",
        "--> To check for stationarity, I will use ADF \"Augmented Dickey- Fuller test\"\n",
        "Steps:\n",
        "1. Null Hypothesis: The time series is not stationary.\n",
        "2. Alternative hypothesis: The time series is stationary.\n",
        "3. If the p-value of the test is <0.05, the time series is stationary."
      ],
      "metadata": {
        "id": "UuhDw1521EgL"
      }
    },
    {
      "cell_type": "code",
      "source": [
        "from statsmodels.tsa.stattools import adfuller\n",
        "\n",
        "result= adfuller(y) # ---> perform the ADF test\n",
        "\n",
        "print(f'ADF Statistic:{result[0]}')\n",
        "print(f'p-value: {result[1]}')\n",
        "\n",
        "if result[1]< 0.05:\n",
        "  print('The time series is stationary.')\n",
        "else:\n",
        "  print('The time series is not stationary.')"
      ],
      "metadata": {
        "colab": {
          "base_uri": "https://localhost:8080/"
        },
        "id": "knnf7Zmy1y34",
        "outputId": "963e8628-6c32-4d7f-e2af-0a7d9a2eeebe"
      },
      "execution_count": 34,
      "outputs": [
        {
          "output_type": "stream",
          "name": "stdout",
          "text": [
            "ADF Statistic:-7.014694574020545\n",
            "p-value: 6.780073242801896e-10\n",
            "The time series is stationary.\n"
          ]
        }
      ]
    },
    {
      "cell_type": "markdown",
      "source": [
        "# Interpretation of the ADF test and the p value:\n",
        "\n",
        "1. ADF statistic: I obtained a negative value, so this indicates that the series is stationary.\n",
        "2. p-value: this is a very very small p value \"<0.05\" tells me to reject the null hypothesis, and accept that the series is stationary."
      ],
      "metadata": {
        "id": "CV_6mlI-2xoz"
      }
    },
    {
      "cell_type": "markdown",
      "source": [
        "# **Next: Fitting the ARIMAX Model**\n",
        "\n",
        "First:\n",
        "I have to find p (PACF),d and q (ACF):\n",
        "\n",
        "1. d \"differencing\" = 1 is often used when the series is not stationary (but I have already discovered that it is)\n",
        "2. p \"Autoregressive Order\" : indicates **how many past values**, called \"lags\" the model should consider to predict future values. To find p, I need to use the PACF plot. **For example if I say p=1, it would mean I want to use 1 past value to predict the current value.** For more clarity again: In this** I want to predict electricity demand for today, so I will look at yesterday's electricity demand to make the prediction. **\n",
        "3. q \"moving average\": tells how many previous prediction errors called **residuals** I want my model to use. It helps my model correct any mistakes the model might have made in previous predictions. **Example: In predicting electricity demand, the model will consider how much it over/under estimated in the last 2 periods and correct its prediction accordingly**.\n",
        "\n",
        "ACF plot: tells me how many mistakes or errors (residuals) are correlated with current values. If I see significant spikes in the ACF up to a certain lag (say lag 4), and then the spikes drop off near zero, it will tell me that the errors up to lag 4 still affect the prediction, but beyond that there isn't much contribution.\n",
        "\n",
        "PACF plot: helps me determine the number of lags in the autoregressive model by showing me partial correlation.  "
      ],
      "metadata": {
        "id": "Ejw46zV63geG"
      }
    },
    {
      "cell_type": "code",
      "source": [
        "# determining p:\n",
        "\n",
        "from statsmodels.graphics.tsaplots import plot_acf, plot_pacf\n",
        "import matplotlib.pyplot as plt\n",
        "\n",
        "# ACF and PACF plots to determine p and q:\n",
        "plot_acf(y)\n",
        "plt.show()\n",
        "\n",
        "plot_pacf(y)\n",
        "plt.show()\n"
      ],
      "metadata": {
        "colab": {
          "base_uri": "https://localhost:8080/",
          "height": 887
        },
        "id": "BajFossE3i_a",
        "outputId": "3273a25e-57df-44cb-96bf-db7b6331fa68"
      },
      "execution_count": 35,
      "outputs": [
        {
          "output_type": "display_data",
          "data": {
            "text/plain": [
              "<Figure size 640x480 with 1 Axes>"
            ],
            "image/png": "[encoded data removed]"
          },
          "metadata": {}
        },
        {
          "output_type": "display_data",
          "data": {
            "text/plain": [
              "<Figure size 640x480 with 1 Axes>"
            ],
            "image/png": "[encoded data removed]"
          },
          "metadata": {}
        }
      ]
    },
    {
      "cell_type": "code",
      "source": [
        "# Calculating the ACF and PACF numerically:\n",
        "\n",
        "from statsmodels.tsa.stattools import acf, pacf\n",
        "import pandas as pd\n",
        "\n",
        "acf_values= acf(df['Demand_MW'], nlags=20)\n",
        "pacf_values= pacf(df['Demand_MW'], nlags= 20)\n",
        "\n",
        "acf_df= pd.DataFrame({'Lag': range(len(acf_values)), 'ACF': acf_values})\n",
        "pacf_df= pd.DataFrame({'Lag': range(len(pacf_values)), 'PACF': pacf_values})\n",
        "\n",
        "print(\"ACF Values:\")\n",
        "print(acf_values)\n",
        "print(\"\\nPACF Values:\")\n",
        "print(pacf_values)"
      ],
      "metadata": {
        "colab": {
          "base_uri": "https://localhost:8080/"
        },
        "id": "Rr4Ng835_5b4",
        "outputId": "b2d99a3f-495c-425b-e068-22fce40e8bfc"
      },
      "execution_count": 36,
      "outputs": [
        {
          "output_type": "stream",
          "name": "stdout",
          "text": [
            "ACF Values:\n",
            "[ 1.          0.34712383  0.24542656  0.17151296  0.05076676  0.00653203\n",
            " -0.09552012 -0.11097203 -0.1066255  -0.114502   -0.10326516 -0.1205508\n",
            " -0.11880888 -0.10080486 -0.11496457 -0.11187224 -0.12456933 -0.12493364\n",
            " -0.07728582 -0.02477902  0.01566826]\n",
            "\n",
            "PACF Values:\n",
            "[ 1.          0.34728284  0.14219571  0.05708706 -0.05762463 -0.03412836\n",
            " -0.11047245 -0.05282296 -0.02550682 -0.0320418  -0.02963407 -0.06091515\n",
            " -0.05767649 -0.03781317 -0.06275942 -0.05854856 -0.07649103 -0.07326745\n",
            " -0.02037416  0.01540405  0.01410486]\n"
          ]
        }
      ]
    },
    {
      "cell_type": "markdown",
      "source": [
        "# Intepretation:\n",
        "\n",
        "**p=1**\n",
        "**and q=4**"
      ],
      "metadata": {
        "id": "gpqiflBwBGUK"
      }
    },
    {
      "cell_type": "markdown",
      "source": [
        "# **Next: Is to Fit the ARIMAX Model**"
      ],
      "metadata": {
        "id": "TWkxBKa7Gj62"
      }
    },
    {
      "cell_type": "code",
      "source": [
        "# Importing necessary libraries\n",
        "from statsmodels.tsa.arima.model import ARIMA\n",
        "import pandas as pd\n",
        "\n",
        "# 'Temperature_C' (exogenous), 'Hour' (exogenous), and 'Demand_MW' (dependent variable)\n",
        "\n",
        "y = df['Demand_MW']  # Dependent variable: Electricity Demand\n",
        "X = df[['Temperature_C', 'Hour']]  # Exogenous variables: Temperature and Hour\n",
        "\n",
        "# Fitting the ARIMAX model (p=1, d=0, q=4)\n",
        "model = ARIMA(y, exog=X, order=(1, 0, 4))  # AR(p=1), I(d=0), MA(q=4)\n",
        "model_fit = model.fit()\n",
        "\n",
        "# Printing the summary of the fitted model\n",
        "print(model_fit.summary())\n",
        "\n",
        "# Making predictions (forecasting for the next 5 time steps)\n",
        "forecast_steps = 5\n",
        "forecast = model_fit.forecast(steps=forecast_steps, exog=X[-forecast_steps:])\n",
        "print(\"Forecasted Demand for next 5 periods:\", forecast)\n"
      ],
      "metadata": {
        "colab": {
          "base_uri": "https://localhost:8080/"
        },
        "id": "0unhnBiqI0hX",
        "outputId": "71de14fe-eb3c-4d52-bb8b-1329ba5b3e16"
      },
      "execution_count": 40,
      "outputs": [
        {
          "output_type": "stream",
          "name": "stderr",
          "text": [
            "/usr/local/lib/python3.11/dist-packages/statsmodels/base/model.py:607: ConvergenceWarning: Maximum Likelihood optimization failed to converge. Check mle_retvals\n",
            "  warnings.warn(\"Maximum Likelihood optimization failed to \"\n"
          ]
        },
        {
          "output_type": "stream",
          "name": "stdout",
          "text": [
            "                               SARIMAX Results                                \n",
            "==============================================================================\n",
            "Dep. Variable:              Demand_MW   No. Observations:                 2184\n",
            "Model:                 ARIMA(1, 0, 4)   Log Likelihood               -9821.198\n",
            "Date:                Thu, 10 Apr 2025   AIC                          19660.396\n",
            "Time:                        00:39:44   BIC                          19711.596\n",
            "Sample:                             0   HQIC                         19679.112\n",
            "                               - 2184                                         \n",
            "Covariance Type:                  opg                                         \n",
            "=================================================================================\n",
            "                    coef    std err          z      P>|z|      [0.025      0.975]\n",
            "---------------------------------------------------------------------------------\n",
            "const           435.8707      2.474    176.160      0.000     431.021     440.720\n",
            "Temperature_C    -5.9286      0.061    -97.023      0.000      -6.048      -5.809\n",
            "Hour              1.9842      0.137     14.438      0.000       1.715       2.254\n",
            "ar.L1             0.7917      0.097      8.193      0.000       0.602       0.981\n",
            "ma.L1            -0.2109      0.093     -2.272      0.023      -0.393      -0.029\n",
            "ma.L2            -0.0278      0.054     -0.512      0.609      -0.134       0.079\n",
            "ma.L3            -0.0744      0.040     -1.843      0.065      -0.153       0.005\n",
            "ma.L4            -0.3108      0.030    -10.282      0.000      -0.370      -0.252\n",
            "sigma2          468.7872     10.093     46.449      0.000     449.006     488.568\n",
            "===================================================================================\n",
            "Ljung-Box (L1) (Q):                   0.23   Jarque-Bera (JB):               907.51\n",
            "Prob(Q):                              0.64   Prob(JB):                         0.00\n",
            "Heteroskedasticity (H):               1.15   Skew:                             0.62\n",
            "Prob(H) (two-sided):                  0.06   Kurtosis:                         5.90\n",
            "===================================================================================\n",
            "\n",
            "Warnings:\n",
            "[1] Covariance matrix calculated using the outer product of gradients (complex-step).\n",
            "Forecasted Demand for next 5 periods: 2184    352.732515\n",
            "2185    368.865305\n",
            "2186    294.895880\n",
            "2187    362.206774\n",
            "2188    370.863799\n",
            "Name: predicted_mean, dtype: float64\n"
          ]
        }
      ]
    },
    {
      "source": [
        "import pandas as pd\n",
        "\n",
        "# Forecast the next 5 periods\n",
        "\n",
        "forecasted_demand = model_fit.predict(start=len(df), end=len(df)+4, dynamic=False, exog=X[-5:]) # Adding exog for exogenous variables\n",
        "\n",
        "# Now let's create a starting point, like the last date and hour from your data\n",
        "last_date = pd.to_datetime('2025-04-10')  # last date from my dataset\n",
        "last_hour = 9  # Example: assuming the last hour was 9 AM\n",
        "# Generate the next 5 days for the forecast\n",
        "forecast_dates = pd.date_range(last_date, periods=6, freq='D')[1:]  # starting from the next day\n",
        "forecast_hours = [last_hour + i for i in range(1, 6)]  # Assign next hour for each forecasted day\n",
        "\n",
        "# Assume constant temperatures for simplicity\n",
        "forecast_temperatures = [25, 26, 27, 28, 29]\n",
        "# Creating a DataFrame with Date, Temperature_C, Hour, and Predicted_Demand_MW\n",
        "forecast_df = pd.DataFrame({\n",
        "    'Date': forecast_dates,\n",
        "    'Temperature_C': forecast_temperatures,\n",
        "    'Hour': forecast_hours,\n",
        "    'Predicted_Demand_MW': forecasted_demand\n",
        "})\n",
        "\n",
        "# Display the DataFrame\n",
        "print(forecast_df)"
      ],
      "cell_type": "code",
      "metadata": {
        "colab": {
          "base_uri": "https://localhost:8080/"
        },
        "id": "vh0NC7R2NIRd",
        "outputId": "a71df846-2bc8-40d9-9aa0-3224156bd228"
      },
      "execution_count": 47,
      "outputs": [
        {
          "output_type": "stream",
          "name": "stdout",
          "text": [
            "           Date  Temperature_C  Hour  Predicted_Demand_MW\n",
            "2184 2025-04-11             25    10           352.732515\n",
            "2185 2025-04-12             26    11           368.865305\n",
            "2186 2025-04-13             27    12           294.895880\n",
            "2187 2025-04-14             28    13           362.206774\n",
            "2188 2025-04-15             29    14           370.863799\n"
          ]
        }
      ]
    }
  ]
}